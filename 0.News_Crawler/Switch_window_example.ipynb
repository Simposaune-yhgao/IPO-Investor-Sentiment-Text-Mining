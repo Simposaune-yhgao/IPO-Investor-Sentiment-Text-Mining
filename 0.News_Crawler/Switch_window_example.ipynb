{
 "cells": [
  {
   "cell_type": "code",
   "execution_count": 8,
   "metadata": {},
   "outputs": [],
   "source": [
    "from bs4 import BeautifulSoup "
   ]
  },
  {
   "cell_type": "code",
   "execution_count": 11,
   "metadata": {},
   "outputs": [
    {
     "name": "stdout",
     "output_type": "stream",
     "text": [
      "https://tarunlalwani.com/post/how-to-debug-nginx-reverse-proxy-issues-php-fpm-gunicorn-uwsgi/\n",
      "https://tarunlalwani.com/\n",
      "\n",
      "««\n",
      "\n"
     ]
    }
   ],
   "source": [
    "# from selenium import webdriver\n",
    "# from selenium.webdriver.common.action_chains import ActionChains\n",
    "# from selenium.webdriver.common.keys import Keys\n",
    "# import time\n",
    "\n",
    "driver = webdriver.Chrome('./chromedriver')  \n",
    "driver.get(\"http://tarunlalwani.com/post/\")\n",
    "action = ActionChains(driver)\n",
    "elem = driver.find_element_by_link_text(\"How To Debug Nginx Reverse Proxy Issues\")\n",
    "time.sleep(2)\n",
    "action\\\n",
    "    .move_to_element(elem)\\\n",
    "    .key_down(Keys.CONTROL)\\\n",
    "    .click(elem)\\\n",
    "    .key_up(Keys.CONTROL)\\\n",
    "    .perform()\n",
    "driver.switch_to.window(driver.window_handles[1])\n",
    "print(driver.current_url)\n",
    "# print(driver.page_source)\n",
    "driver.find_element_by_xpath(\"/html/body/div/div/div[1]/div/h1/a\").click()\n",
    "print(driver.current_url)\n",
    "bsobj = BeautifulSoup(driver.page_source,\"lxml\")\n",
    "tag = bsobj.find(\"li\")\n",
    "print(tag.text)\n",
    "# driver.close()\n",
    "# driver.switch_to.window(driver.window_handles[0])\n",
    "# print(driver.current_url)\n",
    "# driver.find_element_by_xpath(\"/html/body/div/div/div[2]/div/div/article/ul/li[1]/a\").click()\n",
    "time.sleep(5)\n",
    "# driver.quit()"
   ]
  },
  {
   "cell_type": "code",
   "execution_count": 12,
   "metadata": {},
   "outputs": [
    {
     "data": {
      "text/plain": [
       "<li>\n",
       "<a aria-label=\"First\" href=\"./\"><span aria-hidden=\"true\">««</span></a>\n",
       "</li>"
      ]
     },
     "execution_count": 12,
     "metadata": {},
     "output_type": "execute_result"
    }
   ],
   "source": [
    "tag"
   ]
  },
  {
   "cell_type": "code",
   "execution_count": 6,
   "metadata": {},
   "outputs": [],
   "source": [
    "from selenium import webdriver\n",
    "import time\n",
    " \n",
    "driver = webdriver.Chrome('./chromedriver')  \n",
    "driver.get('https://python-forum.io/Thread-Need-Help-Opening-A-New-Tab-in-Selenium')\n",
    "# Open a new window\n",
    "# This does not change focus to the new window for the driver.\n",
    "driver.execute_script(\"window.open('');\")\n",
    "time.sleep(3)\n",
    "# Switch to the new window\n",
    "driver.switch_to.window(driver.window_handles[1])\n",
    "driver.get(\"http://stackoverflow.com\")\n",
    "time.sleep(3)\n",
    "# close the active tab\n",
    "driver.close()\n",
    "time.sleep(3)\n",
    "# Switch back to the first tab\n",
    "driver.switch_to.window(driver.window_handles[0])\n",
    "driver.get(\"http://google.se\")\n",
    "time.sleep(3)\n",
    "# Close the only tab, will also close the browser.\n",
    "driver.close()"
   ]
  },
  {
   "cell_type": "code",
   "execution_count": null,
   "metadata": {},
   "outputs": [],
   "source": []
  }
 ],
 "metadata": {
  "kernelspec": {
   "display_name": "Python 3",
   "language": "python",
   "name": "python3"
  },
  "language_info": {
   "codemirror_mode": {
    "name": "ipython",
    "version": 3
   },
   "file_extension": ".py",
   "mimetype": "text/x-python",
   "name": "python",
   "nbconvert_exporter": "python",
   "pygments_lexer": "ipython3",
   "version": "3.7.3"
  }
 },
 "nbformat": 4,
 "nbformat_minor": 2
}
