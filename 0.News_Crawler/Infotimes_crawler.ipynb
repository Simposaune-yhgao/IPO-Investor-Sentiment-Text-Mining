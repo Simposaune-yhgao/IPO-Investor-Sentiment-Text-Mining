{
 "cells": [
  {
   "cell_type": "code",
   "execution_count": 28,
   "metadata": {},
   "outputs": [],
   "source": [
    "\n",
    "from urllib.request import urlopen\n",
    "from bs4 import BeautifulSoup \n",
    "from selenium import webdriver  \n",
    "from selenium.webdriver.common.action_chains import ActionChains  \n",
    "from selenium.webdriver.support.ui import WebDriverWait\n",
    "from selenium.webdriver.common.by import By\n",
    "from selenium.webdriver.support import expected_conditions as EC\n",
    "from selenium.webdriver.common.keys import Keys\n",
    "from selenium.webdriver.support.ui import Select\n",
    "from bs4.element import NavigableString\n",
    "from selenium.webdriver.chrome.service import Service\n",
    "import time\n",
    "import re\n",
    "import requests\n",
    "import gc\n",
    "\n",
    "import pandas as pd \n",
    "from datetime import timedelta\n",
    "from dateutil.relativedelta import relativedelta\n",
    "import matplotlib.pyplot as plt"
   ]
  },
  {
   "cell_type": "markdown",
   "metadata": {},
   "source": [
    "### **1. IPO Data**\n",
    "* Create IPO dataframe based on each season\n",
    "* IPO Data processing : \n",
    "    * create date range for news searching\n",
    "    * drop foreign company(KY)"
   ]
  },
  {
   "cell_type": "code",
   "execution_count": 15,
   "metadata": {},
   "outputs": [
    {
     "name": "stdout",
     "output_type": "stream",
     "text": [
      "       name  tse_ind tse_ind_name underwrite_date underwrite_announcement  \\\n",
      "0   1815 富喬       28  M2328 電子零組件      2006-01-17              2006-01-05   \n",
      "1  3130 一零四       30  M2330 資訊服務業      2006-02-13              2006-01-12   \n",
      "2  3221 台嘉碩       27  M2327 通信網路業      2006-02-16              2006-02-09   \n",
      "3  3388 崇越電       28  M2328 電子零組件      2006-02-16              2006-02-09   \n",
      "4   3390 旭軟       28  M2328 電子零組件      2006-02-15              2006-02-08   \n",
      "\n",
      "    ipo_date otc_ipo_date tse_ipo_date establish_date ipo_market  ...  \\\n",
      "0 2006-01-23   2006-01-23          NaT     1999-01-14        OTC  ...   \n",
      "1 2006-02-17          NaT   2006-02-17     1993-10-30        TSE  ...   \n",
      "2 2006-02-22   2006-02-22          NaT     1997-11-10        OTC  ...   \n",
      "3 2006-02-22   2006-02-22          NaT     1994-02-21        OTC  ...   \n",
      "4 2006-02-22   2006-02-22          NaT     1998-10-12        OTC  ...   \n",
      "\n",
      "  trading_volume(k)_2 close_price_3 trading_volume(k)_3 close_price_4  \\\n",
      "0              1348.0          28.2              4177.0          28.2   \n",
      "1               453.0         170.0               626.0         173.5   \n",
      "2               749.0          45.8               371.0          48.4   \n",
      "3               621.0         133.0               550.0         145.0   \n",
      "4               293.0          40.1               536.0          40.2   \n",
      "\n",
      "  trading_volume(k)_4  close_price_5  trading_volume(k)_5  \\\n",
      "0              1296.0          28.15                903.0   \n",
      "1               469.0         185.50                722.0   \n",
      "2               442.0          51.70               1609.0   \n",
      "3               888.0         138.00                629.0   \n",
      "4               403.0          39.60                250.0   \n",
      "\n",
      "   esm_last_close_price  esm_draw_close_price         audit  \n",
      "0                  32.1                   NaN  勤業眾信聯合會計師事務所  \n",
      "1                 187.0                   NaN  安侯建業聯合會計師事務所  \n",
      "2                  50.0                   NaN  勤業眾信聯合會計師事務所  \n",
      "3                 175.0                   NaN  安侯建業聯合會計師事務所  \n",
      "4                  44.5                  45.0    致遠聯合會計師事務所  \n",
      "\n",
      "[5 rows x 70 columns]\n"
     ]
    }
   ],
   "source": [
    "IPO = pd.read_excel('IPO_RawData.xlsx')\n",
    "IPO = IPO[IPO['ipo_date'] >= '2006-01-01'].reset_index(drop=True)\n"
   ]
  },
  {
   "cell_type": "code",
   "execution_count": 16,
   "metadata": {},
   "outputs": [],
   "source": [
    "def clean(df):#增加資料處裡後的欄位\n",
    "    df['stock_code'] = df['name'].str[:4]\n",
    "    df['name'] = df['name'].str[5:]\n",
    "    df['age'] = df['ipo_date'] - IPO['establish_date']\n",
    "    df['age'] = df['age']/timedelta(days=365)\n",
    "    df['ipo_year'] = df['ipo_date'].dt.year\n",
    "    df['allot'] = df['allot']*0.01\n",
    "    df['ipo_month'] = df['ipo_date'].dt.month\n",
    "\n",
    "clean(IPO)\n",
    "IPO['KY'] = 0\n",
    "IPO.loc[IPO['name'].str.contains('KY'),'KY'] = 1\n",
    "\n",
    "IPO['underprice'] = IPO['close_price']/IPO['offer_price'] - 1\n",
    "\n",
    "IPO['oversub'] = 1/IPO['allot'] \n",
    "\n",
    "# create news search range\n",
    "s = [] # start date\n",
    "e = [] # end date\n",
    "    \n",
    "for j in IPO['ipo_date']:\n",
    "    s.append((j - relativedelta(months=1)).strftime(\"%Y-%m-%d\"))\n",
    "    \n",
    "for i in IPO['ipo_date']:\n",
    "    e.append((i- relativedelta(days=1)).strftime(\"%Y-%m-%d\"))\n",
    "\n",
    "IPO['start_date'] = s\n",
    "IPO['end_date'] = e\n",
    "\n",
    "# USE_CODE = IPO[IPO['KY'] == 0][['stock_code']].sort_values(by='stock_code', ascending = 'False').reset_index(drop = True)\n",
    "IPO_USE = IPO[IPO['KY'] == 0].reset_index(drop = True)"
   ]
  },
  {
   "cell_type": "code",
   "execution_count": 18,
   "metadata": {},
   "outputs": [],
   "source": [
    "def ipo_group(i,j):\n",
    "    return IPO_USE[(IPO_USE['ipo_year'] == i) & IPO_USE['ipo_month'].isin(j)].reset_index(drop = True)\n",
    "\n",
    "IPO_0604, IPO_0608, IPO_0612 = ipo_group(2006,list(range(1,5))), ipo_group(2006,list(range(5,9))), ipo_group(2006,list(range(9,13)))\n",
    "IPO_0704, IPO_0708, IPO_0712 = ipo_group(2007,list(range(1,5))), ipo_group(2007,list(range(5,9))), ipo_group(2007,list(range(9,13)))\n",
    "IPO_0804, IPO_0808, IPO_0812 = ipo_group(2008,list(range(1,5))), ipo_group(2008,list(range(5,9))), ipo_group(2008,list(range(9,13)))\n",
    "IPO_0904, IPO_0908, IPO_0912 = ipo_group(2009,list(range(1,5))), ipo_group(2009,list(range(5,9))), ipo_group(2009,list(range(9,13)))\n",
    "IPO_1004, IPO_1008, IPO_1012 = ipo_group(2010,list(range(1,5))), ipo_group(2010,list(range(5,9))), ipo_group(2010,list(range(9,13)))\n",
    "IPO_1104, IPO_1108, IPO_1112 = ipo_group(2011,list(range(1,5))), ipo_group(2011,list(range(5,9))), ipo_group(2011,list(range(9,13)))\n",
    "IPO_1204, IPO_1208, IPO_1212 = ipo_group(2012,list(range(1,5))), ipo_group(2012,list(range(5,9))), ipo_group(2012,list(range(9,13)))\n",
    "IPO_1304, IPO_1308, IPO_1312 = ipo_group(2013,list(range(1,5))), ipo_group(2013,list(range(5,9))), ipo_group(2013,list(range(9,13)))\n",
    "IPO_1404, IPO_1408, IPO_1412 = ipo_group(2014,list(range(1,5))), ipo_group(2014,list(range(5,9))), ipo_group(2014,list(range(9,13)))\n",
    "IPO_1504, IPO_1508, IPO_1512 = ipo_group(2015,list(range(1,5))), ipo_group(2015,list(range(5,9))), ipo_group(2015,list(range(9,13)))\n",
    "IPO_1604, IPO_1608, IPO_1612 = ipo_group(2016,list(range(1,5))), ipo_group(2016,list(range(5,9))), ipo_group(2016,list(range(9,13)))\n",
    "IPO_1704, IPO_1708, IPO_1712 = ipo_group(2017,list(range(1,5))), ipo_group(2017,list(range(5,9))), ipo_group(2017,list(range(9,13)))\n",
    "IPO_1804, IPO_1808, IPO_1812 = ipo_group(2018,list(range(1,5))), ipo_group(2018,list(range(5,9))), ipo_group(2018,list(range(9,13)))"
   ]
  },
  {
   "cell_type": "markdown",
   "metadata": {},
   "source": [
    "### **2. WebCrawler Function**\n",
    "* open news page\n",
    "* collect news title date name for each company\n",
    "* collect news content for each company\n",
    "* save as excel file"
   ]
  },
  {
   "cell_type": "code",
   "execution_count": 19,
   "metadata": {},
   "outputs": [],
   "source": [
    "# function to open infotimes webpage\n",
    "def open_infotimes():\n",
    "    driver.implicitly_wait(10)\n",
    "    # maximize window\n",
    "    driver.maximize_window()\n",
    "    # connect to news search page of infotimes\n",
    "    driver.get('http://kmw.chinatimes.com/News/NewsSearch.aspx?searchkind=a&keyword=')\n",
    "    # login\n",
    "    driver.find_element_by_xpath(\"/html/body/form/div[3]/div[1]/div[2]/p[2]/a\").click()\n",
    "    url = driver.current_url\n",
    "    # deselect Want Daily \n",
    "    driver.find_element_by_xpath(\"/html/body/form/div[5]/div[1]/table/tbody/tr[1]/td[2]/span/label[4]/input\").click()"
   ]
  },
  {
   "cell_type": "code",
   "execution_count": 20,
   "metadata": {},
   "outputs": [],
   "source": [
    "# get news_title, date, name; use in get_news() function\n",
    "def get_title_date_name(x,y):\n",
    "    # title, append to title list\n",
    "    for title in x.find_all(class_ = \"NewsContetn\"):\n",
    "        title_list.append(title.text.replace(\"\\n\",\"\"))\n",
    "    # date, append to date list\n",
    "    for date in x.find_all(class_ = \"temp-gvList-row\"):\n",
    "        date_list.append(re.search('[\\d]{4}/[\\d]{2}/[\\d]{2}', date.text.replace(\"\\n\",\"\").replace(\" \",\"\")).group(0))\n",
    "    # name, append to name list\n",
    "    for i in range(len(x.find_all(class_ = \"NewsContetn\"))):\n",
    "        name_list.append(y)"
   ]
  },
  {
   "cell_type": "code",
   "execution_count": 21,
   "metadata": {},
   "outputs": [],
   "source": [
    "# get news content; use in get_news()\n",
    "def get_content(i):\n",
    "    # new tab\n",
    "    new_tab = driver.find_element_by_xpath(\"/html/body/form/div[5]/div[3]/div/table/tbody/tr[\"+str(i)+\"]/td[5]/a\") \n",
    "    action = ActionChains(driver)\n",
    "    action.move_to_element(new_tab).key_down(Keys.CONTROL).click(new_tab).key_up(Keys.CONTROL).perform() # new tab\n",
    "    time.sleep(3) # wait for new tab \n",
    "    driver.switch_to.window(driver.window_handles[1]) # switch to new tab\n",
    "    time.sleep(1)\n",
    "\n",
    "    # get content of new tab, append to content list\n",
    "    bsobj = BeautifulSoup(driver.page_source,\"lxml\") \n",
    "    content = bsobj.find(\"article\", id = \"dvContainer\")\n",
    "    # remove unwanted block\n",
    "    content.style.decompose()\n",
    "    content.table.decompose()\n",
    "    # append to list\n",
    "    content_list.append(content.get_text().replace(\"\\n\",\"\").replace(\"\\t\",\"\").replace(\"\\u3000\",\"\").replace(\" \",\"\"))\n",
    "    time.sleep(1)\n",
    "\n",
    "    # close new tab\n",
    "    driver.close()\n",
    "    time.sleep(1)\n",
    "\n",
    "    # switch back to search result page\n",
    "    driver.switch_to.window(driver.window_handles[0])"
   ]
  },
  {
   "cell_type": "code",
   "execution_count": 22,
   "metadata": {},
   "outputs": [],
   "source": [
    "# select and clear column content \n",
    "def clear(element):\n",
    "    element.send_keys(Keys.CONTROL,'a')\n",
    "    element.send_keys(Keys.BACKSPACE)"
   ]
  },
  {
   "cell_type": "code",
   "execution_count": 23,
   "metadata": {},
   "outputs": [],
   "source": [
    "def get_news(name,start_date,end_date):\n",
    "    # input search name\n",
    "    search_elm = driver.find_element_by_xpath(\"/html/body/form[@id='aspnetForm']/div[@class='container clear-fix']/div[@class='master-content clear-fix']/table[@class='search']/tbody/tr[2]/td[2]/span[@class='auto-style2']/input[@id='txtKeyword']\")\n",
    "    clear(search_elm)\n",
    "    search_elm.send_keys(name)\n",
    "    time.sleep(1)\n",
    "    \n",
    "    # input search date range\n",
    "    start = driver.find_element_by_id(\"txtSDate\")\n",
    "    clear(start)\n",
    "    start.send_keys(u\"\"+start_date)\n",
    "    time.sleep(1)\n",
    "\n",
    "    end = driver.find_element_by_id(\"txtEDate\")\n",
    "    clear(end)\n",
    "    end.send_keys(u\"\"+end_date)\n",
    "    time.sleep(1)\n",
    "    \n",
    "    # click on search button\n",
    "    driver.find_element_by_xpath(\"/html/body/form/div[5]/div[1]/input\").click()                                  \n",
    "    time.sleep(3)\n",
    "\n",
    "    # Find news result number\n",
    "    news = BeautifulSoup(driver.page_source, \"lxml\")\n",
    "    time.sleep(1)\n",
    "    news_num = int(news.find(id = \"ctl00_ContentPlaceHolder1_UCPage1_lblRowCount\").text)\n",
    "\n",
    "    # Find news page\n",
    "    if (news_num/10).is_integer():\n",
    "        news_page = int(news_num/10) \n",
    "    else:\n",
    "        news_page = int(news_num/10)+1\n",
    "    \n",
    "    # For loop to change page and get news content\n",
    "    for i in range(0,news_page+1):\n",
    "        # no page\n",
    "        if i == 0:\n",
    "            pass\n",
    "        # page 1\n",
    "        elif i == 1:\n",
    "            get_title_date_name(news,name)\n",
    "            for j in range(2,(news_num-(i*10-12))):\n",
    "                if j <= 11:\n",
    "                    get_content(j)\n",
    "        # other page\n",
    "        else:\n",
    "            #click to change page\n",
    "            driver.find_element_by_xpath(\"/html/body/form/div[5]/div[2]/table/tbody/tr/td[3]/div/span[2]/a[2]\").click()\n",
    "            news = BeautifulSoup(driver.page_source, \"lxml\")\n",
    "            get_title_date_name(news,name)\n",
    "            time.sleep(1)\n",
    "            for j in range(2,(news_num-(i*10-12))):\n",
    "                if j <= 11:\n",
    "                    get_content(j)\n",
    "    \n",
    "    gc.collect()\n",
    "    time.sleep(1)"
   ]
  },
  {
   "cell_type": "code",
   "execution_count": 24,
   "metadata": {},
   "outputs": [],
   "source": [
    "def excel(title):\n",
    "    df = pd.DataFrame({'name':name_list,'date':date_list,'title':title_list,'content':content_list})\n",
    "    df.to_excel('./news_data/times_'+title+'.xlsx', index=False)\n",
    "    return df"
   ]
  },
  {
   "cell_type": "code",
   "execution_count": 34,
   "metadata": {},
   "outputs": [
    {
     "ename": "WebDriverException",
     "evalue": "Message: unknown error: cannot find Chrome binary\nStacktrace:\nBacktrace:\n\tOrdinal0 [0x00700AE3+1706723]\n\tOrdinal0 [0x006668C1+1075393]\n\tOrdinal0 [0x005DDFA9+516009]\n\tOrdinal0 [0x0056C70E+50958]\n\tOrdinal0 [0x0058BFD7+180183]\n\tOrdinal0 [0x0058BDDD+179677]\n\tOrdinal0 [0x00589D4B+171339]\n\tOrdinal0 [0x00571D4A+73034]\n\tOrdinal0 [0x00572DC0+77248]\n\tOrdinal0 [0x00572D59+77145]\n\tOrdinal0 [0x0067BB37+1162039]\n\tGetHandleVerifier [0x0079A7C6+508998]\n\tGetHandleVerifier [0x0079A504+508292]\n\tGetHandleVerifier [0x007AF617+594583]\n\tGetHandleVerifier [0x0079B036+511158]\n\tOrdinal0 [0x00673FFC+1130492]\n\tOrdinal0 [0x0067D49B+1168539]\n\tOrdinal0 [0x0067D603+1168899]\n\tOrdinal0 [0x00695B05+1268485]\n\tBaseThreadInitThunk [0x74FAFCC9+25]\n\tRtlGetAppContainerNamedObjectPath [0x770A7C5E+286]\n\tRtlGetAppContainerNamedObjectPath [0x770A7C2E+238]\n",
     "output_type": "error",
     "traceback": [
      "\u001b[1;31m---------------------------------------------------------------------------\u001b[0m",
      "\u001b[1;31mWebDriverException\u001b[0m                        Traceback (most recent call last)",
      "\u001b[1;32m<ipython-input-34-6d1d5901cea5>\u001b[0m in \u001b[0;36m<module>\u001b[1;34m\u001b[0m\n\u001b[0;32m      2\u001b[0m \u001b[0mservice\u001b[0m \u001b[1;33m=\u001b[0m \u001b[0mService\u001b[0m\u001b[1;33m(\u001b[0m\u001b[0mexecutable_path\u001b[0m\u001b[1;33m=\u001b[0m\u001b[1;34mr'C:\\Users\\nanan\\Desktop\\文字探勘\\林可佳-20211122T165408Z-001\\林可佳\\程式碼_原始資料\\0_NewsCrawler\\news_crawler\\chromedriver.exe'\u001b[0m\u001b[1;33m)\u001b[0m\u001b[1;33m\u001b[0m\u001b[1;33m\u001b[0m\u001b[0m\n\u001b[0;32m      3\u001b[0m \u001b[0moptions\u001b[0m \u001b[1;33m=\u001b[0m \u001b[0mwebdriver\u001b[0m\u001b[1;33m.\u001b[0m\u001b[0mChromeOptions\u001b[0m\u001b[1;33m(\u001b[0m\u001b[1;33m)\u001b[0m\u001b[1;33m\u001b[0m\u001b[1;33m\u001b[0m\u001b[0m\n\u001b[1;32m----> 4\u001b[1;33m \u001b[0mdriver\u001b[0m \u001b[1;33m=\u001b[0m \u001b[0mwebdriver\u001b[0m\u001b[1;33m.\u001b[0m\u001b[0mChrome\u001b[0m\u001b[1;33m(\u001b[0m\u001b[0mservice\u001b[0m\u001b[1;33m=\u001b[0m\u001b[0mservice\u001b[0m\u001b[1;33m,\u001b[0m \u001b[0moptions\u001b[0m\u001b[1;33m=\u001b[0m\u001b[0moptions\u001b[0m\u001b[1;33m)\u001b[0m\u001b[1;33m\u001b[0m\u001b[1;33m\u001b[0m\u001b[0m\n\u001b[0m\u001b[0;32m      5\u001b[0m \u001b[1;31m###driver = webdriver.Chrome(executable_path=r'/Users/user/Documents/FinancialEconometrics/Webcralwer/Ch07/chromedriver.exe')\u001b[0m\u001b[1;33m\u001b[0m\u001b[1;33m\u001b[0m\u001b[1;33m\u001b[0m\u001b[0m\n\u001b[0;32m      6\u001b[0m \u001b[0mdriver\u001b[0m\u001b[1;33m.\u001b[0m\u001b[0mimplicitly_wait\u001b[0m\u001b[1;33m(\u001b[0m\u001b[1;36m10\u001b[0m\u001b[1;33m)\u001b[0m\u001b[1;33m\u001b[0m\u001b[1;33m\u001b[0m\u001b[0m\n",
      "\u001b[1;32m~\\anaconda3\\lib\\site-packages\\selenium\\webdriver\\chrome\\webdriver.py\u001b[0m in \u001b[0;36m__init__\u001b[1;34m(self, options, service, keep_alive)\u001b[0m\n\u001b[0;32m     48\u001b[0m             \u001b[0moptions\u001b[0m\u001b[1;33m,\u001b[0m\u001b[1;33m\u001b[0m\u001b[1;33m\u001b[0m\u001b[0m\n\u001b[0;32m     49\u001b[0m             \u001b[0mservice\u001b[0m\u001b[1;33m,\u001b[0m\u001b[1;33m\u001b[0m\u001b[1;33m\u001b[0m\u001b[0m\n\u001b[1;32m---> 50\u001b[1;33m             \u001b[0mkeep_alive\u001b[0m\u001b[1;33m,\u001b[0m\u001b[1;33m\u001b[0m\u001b[1;33m\u001b[0m\u001b[0m\n\u001b[0m\u001b[0;32m     51\u001b[0m         )\n",
      "\u001b[1;32m~\\anaconda3\\lib\\site-packages\\selenium\\webdriver\\chromium\\webdriver.py\u001b[0m in \u001b[0;36m__init__\u001b[1;34m(self, browser_name, vendor_prefix, options, service, keep_alive)\u001b[0m\n\u001b[0;32m     62\u001b[0m                     \u001b[0mignore_proxy\u001b[0m\u001b[1;33m=\u001b[0m\u001b[0moptions\u001b[0m\u001b[1;33m.\u001b[0m\u001b[0m_ignore_local_proxy\u001b[0m\u001b[1;33m,\u001b[0m\u001b[1;33m\u001b[0m\u001b[1;33m\u001b[0m\u001b[0m\n\u001b[0;32m     63\u001b[0m                 ),\n\u001b[1;32m---> 64\u001b[1;33m                 \u001b[0moptions\u001b[0m\u001b[1;33m=\u001b[0m\u001b[0moptions\u001b[0m\u001b[1;33m,\u001b[0m\u001b[1;33m\u001b[0m\u001b[1;33m\u001b[0m\u001b[0m\n\u001b[0m\u001b[0;32m     65\u001b[0m             )\n\u001b[0;32m     66\u001b[0m         \u001b[1;32mexcept\u001b[0m \u001b[0mException\u001b[0m\u001b[1;33m:\u001b[0m\u001b[1;33m\u001b[0m\u001b[1;33m\u001b[0m\u001b[0m\n",
      "\u001b[1;32m~\\anaconda3\\lib\\site-packages\\selenium\\webdriver\\remote\\webdriver.py\u001b[0m in \u001b[0;36m__init__\u001b[1;34m(self, command_executor, keep_alive, file_detector, options)\u001b[0m\n\u001b[0;32m    204\u001b[0m         \u001b[0mself\u001b[0m\u001b[1;33m.\u001b[0m\u001b[0m_authenticator_id\u001b[0m \u001b[1;33m=\u001b[0m \u001b[1;32mNone\u001b[0m\u001b[1;33m\u001b[0m\u001b[1;33m\u001b[0m\u001b[0m\n\u001b[0;32m    205\u001b[0m         \u001b[0mself\u001b[0m\u001b[1;33m.\u001b[0m\u001b[0mstart_client\u001b[0m\u001b[1;33m(\u001b[0m\u001b[1;33m)\u001b[0m\u001b[1;33m\u001b[0m\u001b[1;33m\u001b[0m\u001b[0m\n\u001b[1;32m--> 206\u001b[1;33m         \u001b[0mself\u001b[0m\u001b[1;33m.\u001b[0m\u001b[0mstart_session\u001b[0m\u001b[1;33m(\u001b[0m\u001b[0mcapabilities\u001b[0m\u001b[1;33m)\u001b[0m\u001b[1;33m\u001b[0m\u001b[1;33m\u001b[0m\u001b[0m\n\u001b[0m\u001b[0;32m    207\u001b[0m \u001b[1;33m\u001b[0m\u001b[0m\n\u001b[0;32m    208\u001b[0m     \u001b[1;32mdef\u001b[0m \u001b[0m__repr__\u001b[0m\u001b[1;33m(\u001b[0m\u001b[0mself\u001b[0m\u001b[1;33m)\u001b[0m\u001b[1;33m:\u001b[0m\u001b[1;33m\u001b[0m\u001b[1;33m\u001b[0m\u001b[0m\n",
      "\u001b[1;32m~\\anaconda3\\lib\\site-packages\\selenium\\webdriver\\remote\\webdriver.py\u001b[0m in \u001b[0;36mstart_session\u001b[1;34m(self, capabilities)\u001b[0m\n\u001b[0;32m    288\u001b[0m \u001b[1;33m\u001b[0m\u001b[0m\n\u001b[0;32m    289\u001b[0m         \u001b[0mcaps\u001b[0m \u001b[1;33m=\u001b[0m \u001b[0m_create_caps\u001b[0m\u001b[1;33m(\u001b[0m\u001b[0mcapabilities\u001b[0m\u001b[1;33m)\u001b[0m\u001b[1;33m\u001b[0m\u001b[1;33m\u001b[0m\u001b[0m\n\u001b[1;32m--> 290\u001b[1;33m         \u001b[0mresponse\u001b[0m \u001b[1;33m=\u001b[0m \u001b[0mself\u001b[0m\u001b[1;33m.\u001b[0m\u001b[0mexecute\u001b[0m\u001b[1;33m(\u001b[0m\u001b[0mCommand\u001b[0m\u001b[1;33m.\u001b[0m\u001b[0mNEW_SESSION\u001b[0m\u001b[1;33m,\u001b[0m \u001b[0mcaps\u001b[0m\u001b[1;33m)\u001b[0m\u001b[1;33m[\u001b[0m\u001b[1;34m\"value\"\u001b[0m\u001b[1;33m]\u001b[0m\u001b[1;33m\u001b[0m\u001b[1;33m\u001b[0m\u001b[0m\n\u001b[0m\u001b[0;32m    291\u001b[0m         \u001b[0mself\u001b[0m\u001b[1;33m.\u001b[0m\u001b[0msession_id\u001b[0m \u001b[1;33m=\u001b[0m \u001b[0mresponse\u001b[0m\u001b[1;33m.\u001b[0m\u001b[0mget\u001b[0m\u001b[1;33m(\u001b[0m\u001b[1;34m\"sessionId\"\u001b[0m\u001b[1;33m)\u001b[0m\u001b[1;33m\u001b[0m\u001b[1;33m\u001b[0m\u001b[0m\n\u001b[0;32m    292\u001b[0m         \u001b[0mself\u001b[0m\u001b[1;33m.\u001b[0m\u001b[0mcaps\u001b[0m \u001b[1;33m=\u001b[0m \u001b[0mresponse\u001b[0m\u001b[1;33m.\u001b[0m\u001b[0mget\u001b[0m\u001b[1;33m(\u001b[0m\u001b[1;34m\"capabilities\"\u001b[0m\u001b[1;33m)\u001b[0m\u001b[1;33m\u001b[0m\u001b[1;33m\u001b[0m\u001b[0m\n",
      "\u001b[1;32m~\\anaconda3\\lib\\site-packages\\selenium\\webdriver\\remote\\webdriver.py\u001b[0m in \u001b[0;36mexecute\u001b[1;34m(self, driver_command, params)\u001b[0m\n\u001b[0;32m    343\u001b[0m         \u001b[0mresponse\u001b[0m \u001b[1;33m=\u001b[0m \u001b[0mself\u001b[0m\u001b[1;33m.\u001b[0m\u001b[0mcommand_executor\u001b[0m\u001b[1;33m.\u001b[0m\u001b[0mexecute\u001b[0m\u001b[1;33m(\u001b[0m\u001b[0mdriver_command\u001b[0m\u001b[1;33m,\u001b[0m \u001b[0mparams\u001b[0m\u001b[1;33m)\u001b[0m\u001b[1;33m\u001b[0m\u001b[1;33m\u001b[0m\u001b[0m\n\u001b[0;32m    344\u001b[0m         \u001b[1;32mif\u001b[0m \u001b[0mresponse\u001b[0m\u001b[1;33m:\u001b[0m\u001b[1;33m\u001b[0m\u001b[1;33m\u001b[0m\u001b[0m\n\u001b[1;32m--> 345\u001b[1;33m             \u001b[0mself\u001b[0m\u001b[1;33m.\u001b[0m\u001b[0merror_handler\u001b[0m\u001b[1;33m.\u001b[0m\u001b[0mcheck_response\u001b[0m\u001b[1;33m(\u001b[0m\u001b[0mresponse\u001b[0m\u001b[1;33m)\u001b[0m\u001b[1;33m\u001b[0m\u001b[1;33m\u001b[0m\u001b[0m\n\u001b[0m\u001b[0;32m    346\u001b[0m             \u001b[0mresponse\u001b[0m\u001b[1;33m[\u001b[0m\u001b[1;34m\"value\"\u001b[0m\u001b[1;33m]\u001b[0m \u001b[1;33m=\u001b[0m \u001b[0mself\u001b[0m\u001b[1;33m.\u001b[0m\u001b[0m_unwrap_value\u001b[0m\u001b[1;33m(\u001b[0m\u001b[0mresponse\u001b[0m\u001b[1;33m.\u001b[0m\u001b[0mget\u001b[0m\u001b[1;33m(\u001b[0m\u001b[1;34m\"value\"\u001b[0m\u001b[1;33m,\u001b[0m \u001b[1;32mNone\u001b[0m\u001b[1;33m)\u001b[0m\u001b[1;33m)\u001b[0m\u001b[1;33m\u001b[0m\u001b[1;33m\u001b[0m\u001b[0m\n\u001b[0;32m    347\u001b[0m             \u001b[1;32mreturn\u001b[0m \u001b[0mresponse\u001b[0m\u001b[1;33m\u001b[0m\u001b[1;33m\u001b[0m\u001b[0m\n",
      "\u001b[1;32m~\\anaconda3\\lib\\site-packages\\selenium\\webdriver\\remote\\errorhandler.py\u001b[0m in \u001b[0;36mcheck_response\u001b[1;34m(self, response)\u001b[0m\n\u001b[0;32m    227\u001b[0m                 \u001b[0malert_text\u001b[0m \u001b[1;33m=\u001b[0m \u001b[0mvalue\u001b[0m\u001b[1;33m[\u001b[0m\u001b[1;34m\"alert\"\u001b[0m\u001b[1;33m]\u001b[0m\u001b[1;33m.\u001b[0m\u001b[0mget\u001b[0m\u001b[1;33m(\u001b[0m\u001b[1;34m\"text\"\u001b[0m\u001b[1;33m)\u001b[0m\u001b[1;33m\u001b[0m\u001b[1;33m\u001b[0m\u001b[0m\n\u001b[0;32m    228\u001b[0m             \u001b[1;32mraise\u001b[0m \u001b[0mexception_class\u001b[0m\u001b[1;33m(\u001b[0m\u001b[0mmessage\u001b[0m\u001b[1;33m,\u001b[0m \u001b[0mscreen\u001b[0m\u001b[1;33m,\u001b[0m \u001b[0mstacktrace\u001b[0m\u001b[1;33m,\u001b[0m \u001b[0malert_text\u001b[0m\u001b[1;33m)\u001b[0m  \u001b[1;31m# type: ignore[call-arg]  # mypy is not smart enough here\u001b[0m\u001b[1;33m\u001b[0m\u001b[1;33m\u001b[0m\u001b[0m\n\u001b[1;32m--> 229\u001b[1;33m         \u001b[1;32mraise\u001b[0m \u001b[0mexception_class\u001b[0m\u001b[1;33m(\u001b[0m\u001b[0mmessage\u001b[0m\u001b[1;33m,\u001b[0m \u001b[0mscreen\u001b[0m\u001b[1;33m,\u001b[0m \u001b[0mstacktrace\u001b[0m\u001b[1;33m)\u001b[0m\u001b[1;33m\u001b[0m\u001b[1;33m\u001b[0m\u001b[0m\n\u001b[0m",
      "\u001b[1;31mWebDriverException\u001b[0m: Message: unknown error: cannot find Chrome binary\nStacktrace:\nBacktrace:\n\tOrdinal0 [0x00700AE3+1706723]\n\tOrdinal0 [0x006668C1+1075393]\n\tOrdinal0 [0x005DDFA9+516009]\n\tOrdinal0 [0x0056C70E+50958]\n\tOrdinal0 [0x0058BFD7+180183]\n\tOrdinal0 [0x0058BDDD+179677]\n\tOrdinal0 [0x00589D4B+171339]\n\tOrdinal0 [0x00571D4A+73034]\n\tOrdinal0 [0x00572DC0+77248]\n\tOrdinal0 [0x00572D59+77145]\n\tOrdinal0 [0x0067BB37+1162039]\n\tGetHandleVerifier [0x0079A7C6+508998]\n\tGetHandleVerifier [0x0079A504+508292]\n\tGetHandleVerifier [0x007AF617+594583]\n\tGetHandleVerifier [0x0079B036+511158]\n\tOrdinal0 [0x00673FFC+1130492]\n\tOrdinal0 [0x0067D49B+1168539]\n\tOrdinal0 [0x0067D603+1168899]\n\tOrdinal0 [0x00695B05+1268485]\n\tBaseThreadInitThunk [0x74FAFCC9+25]\n\tRtlGetAppContainerNamedObjectPath [0x770A7C5E+286]\n\tRtlGetAppContainerNamedObjectPath [0x770A7C2E+238]\n"
     ]
    }
   ],
   "source": [
    "# driver = webdriver.Chrome('./chromedriver')  \n",
    "service = Service(executable_path=r'C:\\Users\\nanan\\Desktop\\文字探勘\\林可佳-20211122T165408Z-001\\林可佳\\程式碼_原始資料\\0_NewsCrawler\\news_crawler\\chromedriver.exe')\n",
    "options = webdriver.ChromeOptions()\n",
    "driver = webdriver.Chrome(service=service, options=options)\n",
    "###driver = webdriver.Chrome(executable_path=r'/Users/user/Documents/FinancialEconometrics/Webcralwer/Ch07/chromedriver.exe')\n",
    "driver.implicitly_wait(10)\n",
    "driver.maximize_window()\n",
    "driver.get('http://kmw.chinatimes.com/News/NewsSearch.aspx?searchkind=a&keyword=')  \n",
    "driver.find_element_by_xpath(\"/html/body/form/div[3]/div[1]/div[2]/p[2]/a\").click()\n",
    "# time.sleep(5)\n",
    "\n",
    "# 搜索新聞\n",
    "url = driver.current_url\n",
    "driver.implicitly_wait(10)\n",
    "driver.get(url)\n",
    "driver.find_element_by_xpath(\"/html/body/form/div[5]/div[1]/table/tbody/tr[1]/td[2]/span/label[4]/input\").click()\n",
    "\n",
    "# send in search keys\n",
    "search_elm = driver.find_element_by_xpath(\"/html/body/form[@id='aspnetForm']/div[@class='container clear-fix']/div[@class='master-content clear-fix']/table[@class='search']/tbody/tr[2]/td[2]/span[@class='auto-style2']/input[@id='txtKeyword']\")\n",
    "clear(search_elm)\n",
    "search_elm.send_keys(u'碩天')\n",
    "\n",
    "start = driver.find_element_by_id(\"txtSDate\")\n",
    "clear(start)\n",
    "start.send_keys(u\"2009/11/23\")\n",
    "time.sleep(1)\n",
    "\n",
    "end = driver.find_element_by_id(\"txtEDate\")\n",
    "clear(end)\n",
    "end.send_keys(u\"2009/12/22\")\n",
    "time.sleep(1)\n",
    "\n",
    "#click on search button\n",
    "driver.find_element_by_xpath(\"/html/body/form/div[5]/div[1]/input\").click()                                  \n",
    "time.sleep(5)\n",
    "\n",
    "# Find news result number\n",
    "news = BeautifulSoup(driver.page_source, \"lxml\")\n",
    "time.sleep(1)\n",
    "news_num = int(news.find(id = \"ctl00_ContentPlaceHolder1_UCPage1_lblRowCount\").text)\n",
    "\n",
    "# Find news page\n",
    "if (news_num/10).is_integer():\n",
    "    news_page = int(news_num/10) \n",
    "else:\n",
    "    news_page = int(news_num/10)+1\n",
    "\n",
    "title_list = []\n",
    "date_list = []\n",
    "name_list = []\n",
    "content_list = []\n",
    "\n",
    "for i in range(0,news_page+1):\n",
    "    # no page\n",
    "    if i == 0:\n",
    "        pass\n",
    "    # page 1\n",
    "    elif i == 1:\n",
    "        # title, append to title list\n",
    "        for title in news.find_all(class_ = \"NewsContetn\"):\n",
    "            title_list.append(title.text.replace(\"\\n\",\"\"))\n",
    "        # date, append to date list\n",
    "        for date in news.find_all(class_ = \"temp-gvList-row\"):\n",
    "            text = date.text.replace(\"\\n\",\"\").replace(\" \",\"\")\n",
    "            date_list.append(re.search('[\\d]{4}/[\\d]{2}/[\\d]{2}', text).group(0))\n",
    "        # name, append to name list\n",
    "        for i in range(len(news.find_all(class_ = \"NewsContetn\"))):\n",
    "            name_list.append('碩天')\n",
    "        for j in range(2,3):\n",
    "            if j <= 11:\n",
    "                get_content(j)\n",
    "    # other page\n",
    "    else:\n",
    "        #click to change page\n",
    "        driver.find_element_by_xpath(\"/html/body/form/div[5]/div[2]/table/tbody/tr/td[3]/div/span[2]/a[2]\").click()\n",
    "        news = BeautifulSoup(driver.page_source, \"lxml\")\n",
    "        get_title_date_name(news,'碩天')\n",
    "        time.sleep(1)\n",
    "        for j in range(2,3):\n",
    "            if j <= 11:\n",
    "                get_content(j)\n",
    "\n",
    "# driver.quit()"
   ]
  },
  {
   "cell_type": "markdown",
   "metadata": {},
   "source": [
    "* 2006"
   ]
  },
  {
   "cell_type": "code",
   "execution_count": 35,
   "metadata": {},
   "outputs": [],
   "source": [
    "IPO_0604_drop = IPO_0604[~IPO_0604['name'].isin(['一零四'])].reset_index(drop = True)"
   ]
  },
  {
   "cell_type": "code",
   "execution_count": 6,
   "metadata": {},
   "outputs": [],
   "source": [
    "driver = webdriver.Chrome('./chromedriver')  \n",
    "open_infotimes()\n",
    "\n",
    "title_list = []\n",
    "date_list = []\n",
    "name_list = []\n",
    "content_list = []\n",
    "\n",
    "for i,j,k in zip(IPO_0604_drop['name'], IPO_0604_drop['start_date'], IPO_0604_drop['end_date']):\n",
    "    get_news(i,j,k)\n",
    "\n",
    "driver.quit()\n",
    "df_0604 = excel('0604')"
   ]
  },
  {
   "cell_type": "code",
   "execution_count": 37,
   "metadata": {},
   "outputs": [],
   "source": [
    "IPO_0608_drop = IPO_0608[~IPO_0608['name'].isin(['中天'])].reset_index(drop = True)"
   ]
  },
  {
   "cell_type": "code",
   "execution_count": 38,
   "metadata": {},
   "outputs": [],
   "source": [
    "driver = webdriver.Chrome('./chromedriver')  \n",
    "open_infotimes()\n",
    "\n",
    "title_list = []\n",
    "date_list = []\n",
    "name_list = []\n",
    "content_list = []\n",
    "\n",
    "for i,j,k in zip(IPO_0608_drop['name'], IPO_0608_drop['start_date'], IPO_0608_drop['end_date']):\n",
    "    get_news(i,j,k)\n",
    "\n",
    "driver.quit()\n",
    "df_0608 = excel('0608')"
   ]
  },
  {
   "cell_type": "code",
   "execution_count": 39,
   "metadata": {},
   "outputs": [],
   "source": [
    "IPO_0612_drop = IPO_0612[~IPO_0612['name'].isin(['創意'])].reset_index(drop = True)"
   ]
  },
  {
   "cell_type": "code",
   "execution_count": 40,
   "metadata": {},
   "outputs": [],
   "source": [
    "driver = webdriver.Chrome('./chromedriver')  \n",
    "open_infotimes()\n",
    "\n",
    "title_list = []\n",
    "date_list = []\n",
    "name_list = []\n",
    "content_list = []\n",
    "\n",
    "for i,j,k in zip(IPO_0612_drop['name'], IPO_0612_drop['start_date'], IPO_0612_drop['end_date']):\n",
    "    get_news(i,j,k)\n",
    "\n",
    "driver.quit()\n",
    "df_0612 = excel('0612')"
   ]
  },
  {
   "cell_type": "markdown",
   "metadata": {},
   "source": [
    "* 2007"
   ]
  },
  {
   "cell_type": "code",
   "execution_count": 41,
   "metadata": {},
   "outputs": [],
   "source": [
    "driver = webdriver.Chrome('./chromedriver')  \n",
    "open_infotimes()\n",
    "\n",
    "title_list = []\n",
    "date_list = []\n",
    "name_list = []\n",
    "content_list = []\n",
    "\n",
    "for i,j,k in zip(IPO_0704['name'], IPO_0704['start_date'], IPO_0704['end_date']):\n",
    "    get_news(i,j,k)\n",
    "\n",
    "driver.quit()\n",
    "df_0704 = excel('0704')"
   ]
  },
  {
   "cell_type": "code",
   "execution_count": 42,
   "metadata": {},
   "outputs": [],
   "source": [
    "driver = webdriver.Chrome('./chromedriver')  \n",
    "open_infotimes()\n",
    "\n",
    "title_list = []\n",
    "date_list = []\n",
    "name_list = []\n",
    "content_list = []\n",
    "\n",
    "for i,j,k in zip(IPO_0708['name'], IPO_0708['start_date'], IPO_0708['end_date']):\n",
    "    get_news(i,j,k)\n",
    "\n",
    "driver.quit()\n",
    "df_0708 = excel('0708')"
   ]
  },
  {
   "cell_type": "code",
   "execution_count": 43,
   "metadata": {},
   "outputs": [],
   "source": [
    "IPO_0712_drop = IPO_0712[~IPO_0712['name'].isin(['無敵'])].reset_index(drop = True)"
   ]
  },
  {
   "cell_type": "code",
   "execution_count": 44,
   "metadata": {},
   "outputs": [],
   "source": [
    "driver = webdriver.Chrome('./chromedriver')  \n",
    "open_infotimes()\n",
    "\n",
    "title_list = []\n",
    "date_list = []\n",
    "name_list = []\n",
    "content_list = []\n",
    "\n",
    "for i,j,k in zip(IPO_0712_drop['name'], IPO_0712_drop['start_date'], IPO_0712_drop['end_date']):\n",
    "    get_news(i,j,k)\n",
    "\n",
    "driver.quit()\n",
    "df_0712 = excel('0712')"
   ]
  },
  {
   "cell_type": "markdown",
   "metadata": {},
   "source": [
    "* 2008"
   ]
  },
  {
   "cell_type": "code",
   "execution_count": 45,
   "metadata": {},
   "outputs": [],
   "source": [
    "driver = webdriver.Chrome('./chromedriver')  \n",
    "open_infotimes()\n",
    "\n",
    "title_list = []\n",
    "date_list = []\n",
    "name_list = []\n",
    "content_list = []\n",
    "\n",
    "for i,j,k in zip(IPO_0804['name'], IPO_0804['start_date'], IPO_0804['end_date']):\n",
    "    get_news(i,j,k)\n",
    "\n",
    "driver.quit()\n",
    "df_0804 = excel('0804')"
   ]
  },
  {
   "cell_type": "code",
   "execution_count": 46,
   "metadata": {},
   "outputs": [],
   "source": [
    "IPO_0808_drop = IPO_0808[~IPO_0808['name'].isin(['進階'])].reset_index(drop = True)"
   ]
  },
  {
   "cell_type": "code",
   "execution_count": 47,
   "metadata": {},
   "outputs": [],
   "source": [
    "driver = webdriver.Chrome('./chromedriver')  \n",
    "open_infotimes()\n",
    "\n",
    "title_list = []\n",
    "date_list = []\n",
    "name_list = []\n",
    "content_list = []\n",
    "\n",
    "for i,j,k in zip(IPO_0808_drop['name'], IPO_0808_drop['start_date'], IPO_0808_drop['end_date']):\n",
    "    get_news(i,j,k)\n",
    "\n",
    "driver.quit()\n",
    "df_0808 = excel('0808')"
   ]
  },
  {
   "cell_type": "code",
   "execution_count": 48,
   "metadata": {},
   "outputs": [],
   "source": [
    "driver = webdriver.Chrome('./chromedriver')  \n",
    "open_infotimes()\n",
    "\n",
    "title_list = []\n",
    "date_list = []\n",
    "name_list = []\n",
    "content_list = []\n",
    "\n",
    "for i,j,k in zip(IPO_0812['name'], IPO_0812['start_date'], IPO_0812['end_date']):\n",
    "    get_news(i,j,k)\n",
    "\n",
    "driver.quit()\n",
    "df_0812 = excel('0812')"
   ]
  },
  {
   "cell_type": "markdown",
   "metadata": {},
   "source": [
    "* 2009"
   ]
  },
  {
   "cell_type": "code",
   "execution_count": 49,
   "metadata": {},
   "outputs": [],
   "source": [
    "driver = webdriver.Chrome('./chromedriver')  \n",
    "open_infotimes()\n",
    "\n",
    "title_list = []\n",
    "date_list = []\n",
    "name_list = []\n",
    "content_list = []\n",
    "\n",
    "for i,j,k in zip(IPO_0904['name'], IPO_0904['start_date'], IPO_0904['end_date']):\n",
    "    get_news(i,j,k)\n",
    "\n",
    "driver.quit()\n",
    "df_0904 = excel('0904')"
   ]
  },
  {
   "cell_type": "code",
   "execution_count": 50,
   "metadata": {},
   "outputs": [],
   "source": [
    "driver = webdriver.Chrome('./chromedriver')  \n",
    "open_infotimes()\n",
    "\n",
    "title_list = []\n",
    "date_list = []\n",
    "name_list = []\n",
    "content_list = []\n",
    "\n",
    "for i,j,k in zip(IPO_0908['name'], IPO_0908['start_date'], IPO_0908['end_date']):\n",
    "    get_news(i,j,k)\n",
    "\n",
    "driver.quit()\n",
    "df_0908 = excel('0908')"
   ]
  },
  {
   "cell_type": "code",
   "execution_count": 51,
   "metadata": {},
   "outputs": [],
   "source": [
    "driver = webdriver.Chrome('./chromedriver')  \n",
    "open_infotimes()\n",
    "\n",
    "title_list = []\n",
    "date_list = []\n",
    "name_list = []\n",
    "content_list = []\n",
    "\n",
    "for i,j,k in zip(IPO_0912['name'], IPO_0912['start_date'], IPO_0912['end_date']):\n",
    "    get_news(i,j,k)\n",
    "\n",
    "driver.quit()\n",
    "df_0912 = excel('0912')"
   ]
  },
  {
   "cell_type": "markdown",
   "metadata": {},
   "source": [
    "* 2010"
   ]
  },
  {
   "cell_type": "code",
   "execution_count": 37,
   "metadata": {},
   "outputs": [],
   "source": [
    "driver = webdriver.Chrome('./chromedriver')  \n",
    "open_infotimes()\n",
    "\n",
    "title_list = []\n",
    "date_list = []\n",
    "name_list = []\n",
    "content_list = []\n",
    "\n",
    "for i,j,k in zip(IPO_1004['name'], IPO_1004['start_date'], IPO_1004['end_date']):\n",
    "    get_news(i,j,k)\n",
    "\n",
    "driver.quit()\n",
    "df_1004 = excel('1004')"
   ]
  },
  {
   "cell_type": "code",
   "execution_count": 38,
   "metadata": {},
   "outputs": [],
   "source": [
    "driver = webdriver.Chrome('./chromedriver')  \n",
    "open_infotimes()\n",
    "\n",
    "title_list = []\n",
    "date_list = []\n",
    "name_list = []\n",
    "content_list = []\n",
    "\n",
    "for i,j,k in zip(IPO_1008['name'], IPO_1008['start_date'], IPO_1008['end_date']):\n",
    "    get_news(i,j,k)\n",
    "\n",
    "driver.quit()\n",
    "df_1008 = excel('1008')"
   ]
  },
  {
   "cell_type": "code",
   "execution_count": 39,
   "metadata": {},
   "outputs": [],
   "source": [
    "driver = webdriver.Chrome('./chromedriver')  \n",
    "open_infotimes()\n",
    "\n",
    "title_list = []\n",
    "date_list = []\n",
    "name_list = []\n",
    "content_list = []\n",
    "\n",
    "for i,j,k in zip(IPO_1012['name'], IPO_1012['start_date'], IPO_1012['end_date']):\n",
    "    get_news(i,j,k)\n",
    "\n",
    "driver.quit()\n",
    "df_1012 = excel('1012')"
   ]
  },
  {
   "cell_type": "markdown",
   "metadata": {},
   "source": [
    "* 2011"
   ]
  },
  {
   "cell_type": "code",
   "execution_count": 40,
   "metadata": {},
   "outputs": [],
   "source": [
    "driver = webdriver.Chrome('./chromedriver')  \n",
    "open_infotimes()\n",
    "\n",
    "title_list = []\n",
    "date_list = []\n",
    "name_list = []\n",
    "content_list = []\n",
    "\n",
    "for i,j,k in zip(IPO_1104['name'], IPO_1104['start_date'], IPO_1104['end_date']):\n",
    "    get_news(i,j,k)\n",
    "\n",
    "driver.quit()\n",
    "df_1104 = excel('1104')"
   ]
  },
  {
   "cell_type": "code",
   "execution_count": 41,
   "metadata": {},
   "outputs": [],
   "source": [
    "IPO_1108_drop = IPO_1108[~IPO_1108['name'].isin(['辣椒'])].reset_index(drop = True)"
   ]
  },
  {
   "cell_type": "code",
   "execution_count": 42,
   "metadata": {},
   "outputs": [],
   "source": [
    "driver = webdriver.Chrome('./chromedriver')  \n",
    "open_infotimes()\n",
    "\n",
    "title_list = []\n",
    "date_list = []\n",
    "name_list = []\n",
    "content_list = []\n",
    "\n",
    "for i,j,k in zip(IPO_1108_drop['name'], IPO_1108_drop['start_date'], IPO_1108_drop['end_date']):\n",
    "    get_news(i,j,k)\n",
    "\n",
    "driver.quit()\n",
    "df_1108 = excel('1108')"
   ]
  },
  {
   "cell_type": "code",
   "execution_count": 43,
   "metadata": {},
   "outputs": [],
   "source": [
    "IPO_1112_drop = IPO_1112[~IPO_1112['name'].isin(['合一','傳奇','安心','基亞'])].reset_index(drop = True)"
   ]
  },
  {
   "cell_type": "code",
   "execution_count": 44,
   "metadata": {},
   "outputs": [],
   "source": [
    "driver = webdriver.Chrome('./chromedriver')  \n",
    "open_infotimes()\n",
    "\n",
    "title_list = []\n",
    "date_list = []\n",
    "name_list = []\n",
    "content_list = []\n",
    "\n",
    "for i,j,k in zip(IPO_1112_drop['name'], IPO_1112_drop['start_date'], IPO_1112_drop['end_date']):\n",
    "    get_news(i,j,k)\n",
    "\n",
    "driver.quit()\n",
    "df_1112 = excel('1112')"
   ]
  },
  {
   "cell_type": "markdown",
   "metadata": {},
   "source": [
    "* 2012"
   ]
  },
  {
   "cell_type": "code",
   "execution_count": 45,
   "metadata": {},
   "outputs": [],
   "source": [
    "driver = webdriver.Chrome('./chromedriver')  \n",
    "open_infotimes()\n",
    "\n",
    "title_list = []\n",
    "date_list = []\n",
    "name_list = []\n",
    "content_list = []\n",
    "\n",
    "for i,j,k in zip(IPO_1204['name'], IPO_1204['start_date'], IPO_1204['end_date']):\n",
    "    get_news(i,j,k)\n",
    "\n",
    "driver.quit()\n",
    "df_1204 = excel('1204')"
   ]
  },
  {
   "cell_type": "code",
   "execution_count": 46,
   "metadata": {},
   "outputs": [],
   "source": [
    "driver = webdriver.Chrome('./chromedriver')  \n",
    "open_infotimes()\n",
    "\n",
    "title_list = []\n",
    "date_list = []\n",
    "name_list = []\n",
    "content_list = []\n",
    "\n",
    "for i,j,k in zip(IPO_1208['name'], IPO_1208['start_date'], IPO_1208['end_date']):\n",
    "    get_news(i,j,k)\n",
    "\n",
    "driver.quit()\n",
    "df_1208 = excel('1208')"
   ]
  },
  {
   "cell_type": "code",
   "execution_count": 36,
   "metadata": {},
   "outputs": [],
   "source": [
    "IPO_1212_drop = IPO_1212[~IPO_1212['name'].isin(['惠普'])].reset_index(drop = True)"
   ]
  },
  {
   "cell_type": "code",
   "execution_count": 47,
   "metadata": {},
   "outputs": [],
   "source": [
    "driver = webdriver.Chrome('./chromedriver')  \n",
    "open_infotimes()\n",
    "\n",
    "title_list = []\n",
    "date_list = []\n",
    "name_list = []\n",
    "content_list = []\n",
    "\n",
    "for i,j,k in zip(IPO_1212_drop['name'], IPO_1212_drop['start_date'], IPO_1212_drop['end_date']):\n",
    "    get_news(i,j,k)\n",
    "\n",
    "driver.quit()\n",
    "df_1212 = excel('1212')"
   ]
  },
  {
   "cell_type": "markdown",
   "metadata": {},
   "source": [
    "* 2013"
   ]
  },
  {
   "cell_type": "code",
   "execution_count": 75,
   "metadata": {},
   "outputs": [],
   "source": [
    "driver = webdriver.Chrome('./chromedriver')  \n",
    "open_infotimes()\n",
    "\n",
    "title_list = []\n",
    "date_list = []\n",
    "name_list = []\n",
    "content_list = []\n",
    "\n",
    "for i,j,k in zip(IPO_1304['name'], IPO_1304['start_date'], IPO_1304['end_date']):\n",
    "    get_news(i,j,k)\n",
    "\n",
    "driver.quit()\n",
    "df_1304 = excel('1304')"
   ]
  },
  {
   "cell_type": "code",
   "execution_count": 76,
   "metadata": {},
   "outputs": [],
   "source": [
    "driver = webdriver.Chrome('./chromedriver')  \n",
    "open_infotimes()\n",
    "\n",
    "title_list = []\n",
    "date_list = []\n",
    "name_list = []\n",
    "content_list = []\n",
    "\n",
    "for i,j,k in zip(IPO_1308['name'], IPO_1308['start_date'], IPO_1308['end_date']):\n",
    "    get_news(i,j,k)\n",
    "\n",
    "driver.quit()\n",
    "df_1308 = excel('1308')"
   ]
  },
  {
   "cell_type": "code",
   "execution_count": 77,
   "metadata": {},
   "outputs": [],
   "source": [
    "IPO_1312_drop = IPO_1312[~IPO_1312['name'].isin(['大量'])].reset_index(drop = True)"
   ]
  },
  {
   "cell_type": "code",
   "execution_count": 78,
   "metadata": {},
   "outputs": [],
   "source": [
    "driver = webdriver.Chrome('./chromedriver')  \n",
    "open_infotimes()\n",
    "\n",
    "title_list = []\n",
    "date_list = []\n",
    "name_list = []\n",
    "content_list = []\n",
    "\n",
    "for i,j,k in zip(IPO_1312_drop['name'], IPO_1312_drop['start_date'], IPO_1312_drop['end_date']):\n",
    "    get_news(i,j,k)\n",
    "\n",
    "driver.quit()\n",
    "df_1312 = excel('1312')"
   ]
  },
  {
   "cell_type": "markdown",
   "metadata": {},
   "source": [
    "* 2014"
   ]
  },
  {
   "cell_type": "code",
   "execution_count": 79,
   "metadata": {},
   "outputs": [],
   "source": [
    "IPO_1404_drop = IPO_1404[~IPO_1404['name'].isin(['數字'])].reset_index(drop = True)"
   ]
  },
  {
   "cell_type": "code",
   "execution_count": 80,
   "metadata": {},
   "outputs": [],
   "source": [
    "driver = webdriver.Chrome('./chromedriver')  \n",
    "open_infotimes()\n",
    "\n",
    "title_list = []\n",
    "date_list = []\n",
    "name_list = []\n",
    "content_list = []\n",
    "\n",
    "for i,j,k in zip(IPO_1404_drop['name'], IPO_1404_drop['start_date'], IPO_1404_drop['end_date']):\n",
    "    get_news(i,j,k)\n",
    "\n",
    "driver.quit()\n",
    "df_1404 = excel('1404')"
   ]
  },
  {
   "cell_type": "code",
   "execution_count": 81,
   "metadata": {},
   "outputs": [],
   "source": [
    "driver = webdriver.Chrome('./chromedriver')  \n",
    "open_infotimes()\n",
    "\n",
    "title_list = []\n",
    "date_list = []\n",
    "name_list = []\n",
    "content_list = []\n",
    "\n",
    "for i,j,k in zip(IPO_1408['name'], IPO_1408['start_date'], IPO_1408['end_date']):\n",
    "    get_news(i,j,k)\n",
    "\n",
    "driver.quit()\n",
    "df_1408 = excel('1408')"
   ]
  },
  {
   "cell_type": "code",
   "execution_count": 82,
   "metadata": {},
   "outputs": [],
   "source": [
    "driver = webdriver.Chrome('./chromedriver')  \n",
    "open_infotimes()\n",
    "\n",
    "title_list = []\n",
    "date_list = []\n",
    "name_list = []\n",
    "content_list = []\n",
    "\n",
    "for i,j,k in zip(IPO_1412['name'], IPO_1412['start_date'], IPO_1412['end_date']):\n",
    "    get_news(i,j,k)\n",
    "\n",
    "driver.quit()\n",
    "df_1412 = excel('1412')"
   ]
  },
  {
   "cell_type": "markdown",
   "metadata": {},
   "source": [
    "* 2015"
   ]
  },
  {
   "cell_type": "code",
   "execution_count": 83,
   "metadata": {},
   "outputs": [],
   "source": [
    "driver = webdriver.Chrome('./chromedriver')  \n",
    "open_infotimes()\n",
    "\n",
    "title_list = []\n",
    "date_list = []\n",
    "name_list = []\n",
    "content_list = []\n",
    "\n",
    "for i,j,k in zip(IPO_1504['name'], IPO_1504['start_date'], IPO_1504['end_date']):\n",
    "    get_news(i,j,k)\n",
    "\n",
    "driver.quit()\n",
    "df_1504 = excel('1504')"
   ]
  },
  {
   "cell_type": "code",
   "execution_count": 84,
   "metadata": {},
   "outputs": [],
   "source": [
    "driver = webdriver.Chrome('./chromedriver')  \n",
    "open_infotimes()\n",
    "\n",
    "title_list = []\n",
    "date_list = []\n",
    "name_list = []\n",
    "content_list = []\n",
    "\n",
    "for i,j,k in zip(IPO_1508['name'], IPO_1508['start_date'], IPO_1508['end_date']):\n",
    "    get_news(i,j,k)\n",
    "\n",
    "driver.quit()\n",
    "df_1508 = excel('1508')"
   ]
  },
  {
   "cell_type": "code",
   "execution_count": 85,
   "metadata": {},
   "outputs": [],
   "source": [
    "driver = webdriver.Chrome('./chromedriver')  \n",
    "open_infotimes()\n",
    "\n",
    "title_list = []\n",
    "date_list = []\n",
    "name_list = []\n",
    "content_list = []\n",
    "\n",
    "for i,j,k in zip(IPO_1512['name'], IPO_1512['start_date'], IPO_1512['end_date']):\n",
    "    get_news(i,j,k)\n",
    "\n",
    "driver.quit()\n",
    "df_1512 = excel('1512')"
   ]
  },
  {
   "cell_type": "markdown",
   "metadata": {},
   "source": [
    "* 2016"
   ]
  },
  {
   "cell_type": "code",
   "execution_count": 87,
   "metadata": {},
   "outputs": [],
   "source": [
    "driver = webdriver.Chrome('./chromedriver')  \n",
    "open_infotimes()\n",
    "\n",
    "title_list = []\n",
    "date_list = []\n",
    "name_list = []\n",
    "content_list = []\n",
    "\n",
    "for i,j,k in zip(IPO_1604['name'], IPO_1604['start_date'], IPO_1604['end_date']):\n",
    "    get_news(i,j,k)\n",
    "\n",
    "driver.quit()\n",
    "df_1604 = excel('1604')"
   ]
  },
  {
   "cell_type": "code",
   "execution_count": 88,
   "metadata": {},
   "outputs": [],
   "source": [
    "driver = webdriver.Chrome('./chromedriver')  \n",
    "open_infotimes()\n",
    "\n",
    "title_list = []\n",
    "date_list = []\n",
    "name_list = []\n",
    "content_list = []\n",
    "\n",
    "for i,j,k in zip(IPO_1608['name'], IPO_1608['start_date'], IPO_1608['end_date']):\n",
    "    get_news(i,j,k)\n",
    "\n",
    "driver.quit()\n",
    "df_1608 = excel('1608')"
   ]
  },
  {
   "cell_type": "code",
   "execution_count": 89,
   "metadata": {},
   "outputs": [],
   "source": [
    "IPO_1612_drop = IPO_1612[~IPO_1612['name'].isin(['互動','創業家'])].reset_index(drop = True)"
   ]
  },
  {
   "cell_type": "code",
   "execution_count": 90,
   "metadata": {},
   "outputs": [],
   "source": [
    "driver = webdriver.Chrome('./chromedriver')  \n",
    "open_infotimes()\n",
    "\n",
    "title_list = []\n",
    "date_list = []\n",
    "name_list = []\n",
    "content_list = []\n",
    "\n",
    "for i,j,k in zip(IPO_1612_drop['name'], IPO_1612_drop['start_date'], IPO_1612_drop['end_date']):\n",
    "    get_news(i,j,k)\n",
    "\n",
    "driver.quit()\n",
    "df_1612 = excel('1612')"
   ]
  },
  {
   "cell_type": "markdown",
   "metadata": {},
   "source": [
    "* 2017"
   ]
  },
  {
   "cell_type": "code",
   "execution_count": 27,
   "metadata": {},
   "outputs": [],
   "source": [
    "driver = webdriver.Chrome('./chromedriver')  \n",
    "open_infotimes()\n",
    "\n",
    "title_list = []\n",
    "date_list = []\n",
    "name_list = []\n",
    "content_list = []\n",
    "\n",
    "for i,j,k in zip(IPO_1704['name'], IPO_1704['start_date'], IPO_1704['end_date']):\n",
    "    get_news(i,j,k)\n",
    "\n",
    "driver.quit()\n",
    "df_1704 = excel('1704')"
   ]
  },
  {
   "cell_type": "code",
   "execution_count": 14,
   "metadata": {},
   "outputs": [],
   "source": [
    "driver = webdriver.Chrome('./chromedriver')  \n",
    "open_infotimes()\n",
    "\n",
    "title_list = []\n",
    "date_list = []\n",
    "name_list = []\n",
    "content_list = []\n",
    "\n",
    "for i,j,k in zip(IPO_1708['name'], IPO_1708['start_date'], IPO_1708['end_date']):\n",
    "    get_news(i,j,k)\n",
    "\n",
    "driver.quit()\n",
    "df_1708 = excel('1708')"
   ]
  },
  {
   "cell_type": "code",
   "execution_count": 15,
   "metadata": {},
   "outputs": [],
   "source": [
    "driver = webdriver.Chrome('./chromedriver')  \n",
    "open_infotimes()\n",
    "\n",
    "title_list = []\n",
    "date_list = []\n",
    "name_list = []\n",
    "content_list = []\n",
    "\n",
    "for i,j,k in zip(IPO_1712['name'], IPO_1712['start_date'], IPO_1712['end_date']):\n",
    "    get_news(i,j,k)\n",
    "\n",
    "driver.quit()\n",
    "df_1712 = excel('1712')"
   ]
  },
  {
   "cell_type": "markdown",
   "metadata": {},
   "source": [
    "* 2018"
   ]
  },
  {
   "cell_type": "code",
   "execution_count": 16,
   "metadata": {},
   "outputs": [],
   "source": [
    "driver = webdriver.Chrome('./chromedriver')  \n",
    "open_infotimes()\n",
    "\n",
    "title_list = []\n",
    "date_list = []\n",
    "name_list = []\n",
    "content_list = []\n",
    "\n",
    "for i,j,k in zip(IPO_1804['name'], IPO_1804['start_date'], IPO_1804['end_date']):\n",
    "    get_news(i,j,k)\n",
    "\n",
    "driver.quit()\n",
    "df_1804 = excel('1804')"
   ]
  },
  {
   "cell_type": "code",
   "execution_count": 17,
   "metadata": {},
   "outputs": [],
   "source": [
    "driver = webdriver.Chrome('./chromedriver')  \n",
    "open_infotimes()\n",
    "\n",
    "title_list = []\n",
    "date_list = []\n",
    "name_list = []\n",
    "content_list = []\n",
    "\n",
    "for i,j,k in zip(IPO_1808['name'], IPO_1808['start_date'], IPO_1808['end_date']):\n",
    "    get_news(i,j,k)\n",
    "\n",
    "driver.quit()\n",
    "df_1808 = excel('1808')"
   ]
  },
  {
   "cell_type": "code",
   "execution_count": 18,
   "metadata": {},
   "outputs": [],
   "source": [
    "driver = webdriver.Chrome('./chromedriver')  \n",
    "open_infotimes()\n",
    "\n",
    "title_list = []\n",
    "date_list = []\n",
    "name_list = []\n",
    "content_list = []\n",
    "\n",
    "for i,j,k in zip(IPO_1812['name'], IPO_1812['start_date'], IPO_1812['end_date']):\n",
    "    get_news(i,j,k)\n",
    "\n",
    "driver.quit()\n",
    "df_1812 = excel('1812')"
   ]
  }
 ],
 "metadata": {
  "kernelspec": {
   "display_name": "Python 3",
   "language": "python",
   "name": "python3"
  },
  "language_info": {
   "codemirror_mode": {
    "name": "ipython",
    "version": 3
   },
   "file_extension": ".py",
   "mimetype": "text/x-python",
   "name": "python",
   "nbconvert_exporter": "python",
   "pygments_lexer": "ipython3",
   "version": "3.7.6"
  }
 },
 "nbformat": 4,
 "nbformat_minor": 4
}
